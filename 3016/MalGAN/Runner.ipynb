{
 "cells": [
  {
   "cell_type": "code",
   "execution_count": null,
   "metadata": {},
   "outputs": [],
   "source": [
    "!pip install gdown tensorboardX\n",
    "!gdown --id 12EpYh6vcKRJCCMOINPDUCSaDgHKy5-Dh\n",
    "!unzip  /content/MALWARE_GAN.zip\n",
    "!cp /content/MalGAN/* /content/"
   ]
  },
  {
   "cell_type": "markdown",
   "metadata": {},
   "source": [
    "### Trainer Portion"
   ]
  },
  {
   "cell_type": "markdown",
   "metadata": {},
   "source": [
    "!python main.py Z BATCH_SIZE NUM_EPOCHS MALWARE_FILE BENIGN_FILE"
   ]
  },
  {
   "cell_type": "code",
   "execution_count": null,
   "metadata": {},
   "outputs": [],
   "source": [
    "!python /content/MalGAN/MalwareGAN/main.py 10 32 50 /content/MalGAN/MalwareGAN/data/trial_mal.npy /content/MalGAN/MalwareGAN/data/trial_ben.npy"
   ]
  },
  {
   "cell_type": "markdown",
   "metadata": {},
   "source": [
    "### Benchmarks of MALGAN"
   ]
  },
  {
   "cell_type": "code",
   "execution_count": null,
   "metadata": {},
   "outputs": [],
   "source": [
    "import pandas as pd\n",
    "\n",
    "# load the 4 files in the 'results' folder\n",
    "df1 = pd.read_csv('/content/MalGAN/results/results_50.csv')\n",
    "df2 = pd.read_csv('/content/MalGAN/results/results_100.csv')\n",
    "df3 = pd.read_csv('/content/MalGAN/results/results_200.csv')\n",
    "df = pd.concat([df1, df2, df3])\n",
    "df "
   ]
  },
  {
   "cell_type": "code",
   "execution_count": null,
   "metadata": {},
   "outputs": [],
   "source": [
    "import matplotlib.pyplot as plt\n",
    "\n",
    "df.plot(x='detector_type', y=['avg_validation_loss', 'avg_test_loss'], kind='bar')\n"
   ]
  },
  {
   "cell_type": "code",
   "execution_count": null,
   "metadata": {},
   "outputs": [],
   "source": [
    "df.plot(x='detector_type', y='avg_num_bits_changed', kind='bar')"
   ]
  },
  {
   "cell_type": "code",
   "execution_count": null,
   "metadata": {},
   "outputs": [],
   "source": [
    "# Malware Detection rate\n",
    "df.plot(x='detector_type', y=['orig_mal_detect_rate', 'mod_mal_detect_rate', 'ben_mal_detect_rate'], kind='bar')"
   ]
  }
 ],
 "metadata": {
  "kernelspec": {
   "display_name": "dehaze",
   "language": "python",
   "name": "python3"
  },
  "language_info": {
   "codemirror_mode": {
    "name": "ipython",
    "version": 3
   },
   "file_extension": ".py",
   "mimetype": "text/x-python",
   "name": "python",
   "nbconvert_exporter": "python",
   "pygments_lexer": "ipython3",
   "version": "3.9.18"
  }
 },
 "nbformat": 4,
 "nbformat_minor": 2
}
